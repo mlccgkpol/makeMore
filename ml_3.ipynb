{
  "cells": [
    {
      "cell_type": "markdown",
      "metadata": {
        "id": "view-in-github",
        "colab_type": "text"
      },
      "source": [
        "<a href=\"https://colab.research.google.com/github/mlccgkpol/makeMore/blob/main/ml_3.ipynb\" target=\"_parent\"><img src=\"https://colab.research.google.com/assets/colab-badge.svg\" alt=\"Open In Colab\"/></a>"
      ]
    },
    {
      "cell_type": "code",
      "source": [
        "import torch\n",
        "import torch.nn.functional as F\n",
        "import matplotlib.pyplot as plt # for making figures\n",
        "%matplotlib inline"
      ],
      "metadata": {
        "id": "I-djx_lPdTee"
      },
      "execution_count": 1,
      "outputs": []
    },
    {
      "cell_type": "code",
      "source": [
        "!wget https://raw.githubusercontent.com/karpathy/makemore/master/names.txt"
      ],
      "metadata": {
        "id": "Yz0bMz5ndVm8",
        "outputId": "3ebe6e30-c1cf-4698-9e60-382d59cf1b0a",
        "colab": {
          "base_uri": "https://localhost:8080/"
        }
      },
      "execution_count": 2,
      "outputs": [
        {
          "output_type": "stream",
          "name": "stdout",
          "text": [
            "--2025-07-31 06:25:23--  https://raw.githubusercontent.com/karpathy/makemore/master/names.txt\n",
            "Resolving raw.githubusercontent.com (raw.githubusercontent.com)... 185.199.111.133, 185.199.108.133, 185.199.109.133, ...\n",
            "Connecting to raw.githubusercontent.com (raw.githubusercontent.com)|185.199.111.133|:443... connected.\n",
            "HTTP request sent, awaiting response... 200 OK\n",
            "Length: 228145 (223K) [text/plain]\n",
            "Saving to: ‘names.txt’\n",
            "\n",
            "\rnames.txt             0%[                    ]       0  --.-KB/s               \rnames.txt           100%[===================>] 222.80K  --.-KB/s    in 0.04s   \n",
            "\n",
            "2025-07-31 06:25:24 (5.98 MB/s) - ‘names.txt’ saved [228145/228145]\n",
            "\n"
          ]
        }
      ]
    },
    {
      "cell_type": "code",
      "source": [
        "words = open('names.txt', 'r').read().splitlines()\n",
        "words[:8]"
      ],
      "metadata": {
        "id": "n6f7v-bpdX5h",
        "outputId": "bb18851c-cb7a-4f6e-c12a-f807d5c51cdc",
        "colab": {
          "base_uri": "https://localhost:8080/"
        }
      },
      "execution_count": 3,
      "outputs": [
        {
          "output_type": "execute_result",
          "data": {
            "text/plain": [
              "['emma', 'olivia', 'ava', 'isabella', 'sophia', 'charlotte', 'mia', 'amelia']"
            ]
          },
          "metadata": {},
          "execution_count": 3
        }
      ]
    },
    {
      "cell_type": "code",
      "source": [
        "# build the vocabulary of characters and mappings to/from integers\n",
        "chars = sorted(list(set(''.join(words))))\n",
        "stoi = {s:i+1 for i,s in enumerate(chars)}\n",
        "stoi['.'] = 0\n",
        "itos = {i:s for s,i in stoi.items()}\n",
        "vocab_size = len(itos)\n",
        "print(itos)\n",
        "print(vocab_size)"
      ],
      "metadata": {
        "id": "A97f_BnLdYMp",
        "outputId": "12bb89e6-5b9c-4404-f074-b40d6dfd291f",
        "colab": {
          "base_uri": "https://localhost:8080/"
        }
      },
      "execution_count": 4,
      "outputs": [
        {
          "output_type": "stream",
          "name": "stdout",
          "text": [
            "{1: 'a', 2: 'b', 3: 'c', 4: 'd', 5: 'e', 6: 'f', 7: 'g', 8: 'h', 9: 'i', 10: 'j', 11: 'k', 12: 'l', 13: 'm', 14: 'n', 15: 'o', 16: 'p', 17: 'q', 18: 'r', 19: 's', 20: 't', 21: 'u', 22: 'v', 23: 'w', 24: 'x', 25: 'y', 26: 'z', 0: '.'}\n",
            "27\n"
          ]
        }
      ]
    },
    {
      "cell_type": "code",
      "source": [
        "# build the dataset\n",
        "block_size = 3 # context length: how many characters do we take to predict the next one?\n",
        "\n",
        "def build_dataset(words):\n",
        "  X, Y = [], []\n",
        "\n",
        "  for w in words:\n",
        "    context = [0] * block_size\n",
        "    for ch in w + '.':\n",
        "      ix = stoi[ch]\n",
        "      X.append(context)\n",
        "      Y.append(ix)\n",
        "      context = context[1:] + [ix] # crop and append\n",
        "\n",
        "  X = torch.tensor(X)\n",
        "  Y = torch.tensor(Y)\n",
        "  print(X.shape, Y.shape)\n",
        "  return X, Y\n",
        "\n",
        "import random\n",
        "random.seed(42)\n",
        "random.shuffle(words)\n",
        "n1 = int(0.8*len(words))\n",
        "n2 = int(0.9*len(words))\n",
        "\n",
        "Xtr,  Ytr  = build_dataset(words[:n1])     # 80%\n",
        "Xdev, Ydev = build_dataset(words[n1:n2])   # 10%\n",
        "Xte,  Yte  = build_dataset(words[n2:])     # 10%\n"
      ],
      "metadata": {
        "id": "0r_tJAXWdbFt",
        "outputId": "6398ea28-0930-4467-e79f-f3b5a4023508",
        "colab": {
          "base_uri": "https://localhost:8080/"
        }
      },
      "execution_count": 5,
      "outputs": [
        {
          "output_type": "stream",
          "name": "stdout",
          "text": [
            "torch.Size([182625, 3]) torch.Size([182625])\n",
            "torch.Size([22655, 3]) torch.Size([22655])\n",
            "torch.Size([22866, 3]) torch.Size([22866])\n"
          ]
        }
      ]
    },
    {
      "cell_type": "code",
      "source": [
        "n_embed = 10 # no of dimensions\n",
        "n_hidden = 200 # no of neurons in hidden layer\n",
        "\n",
        "g = torch.Generator().manual_seed(2147483647)\n",
        "C  = torch.randn((vocab_size, n_embed),            generator=g)\n",
        "W1 = torch.randn((n_embed * block_size), n_hidden, generator=g) * (5/3)/((n_embed * block_size)**0.5) ## kaiming init.\n",
        "b1 = torch.randn(n_hidden,                        generator=g) * 0.01 #intial tanh should be near zero (refer notes).\n",
        "W2 = torch.randn((n_hidden, vocab_size),              generator=g) * 0.01 # reduce W2 since logits = h @ W2 and we want logits to be near zero and do not explode initially\n",
        "b2 = torch.randn(vocab_size,                       generator=g) * 0 ## since we want to be logits to be near zero.\n",
        "\n",
        "bngains = torch.ones((1,n_hidden))\n",
        "bnbias = torch.zeros((1,n_hidden))\n",
        "\n",
        "bnmean_running = torch.zeros((1,n_hidden))\n",
        "bnstd_running = torch.ones((1,n_hidden))\n",
        "\n",
        "parameters = [C,W1,b1,W2,b2, bngains, bnbias]\n",
        "for p in parameters:\n",
        "  p.requires_grad = True"
      ],
      "metadata": {
        "id": "P9nOfdtKdeJ1"
      },
      "execution_count": 22,
      "outputs": []
    },
    {
      "cell_type": "code",
      "source": [
        "X_temp = torch.randn((1000,10))\n",
        "w = torch.randn((10,200)) * 0.2\n",
        "y = X_temp @ w\n",
        "print(X_temp.mean(),\"X_temp mean\", X_temp.std())\n",
        "print(y.mean(),\"y mean\", y.std())\n",
        "plt.figure(figsize=(20,5))\n",
        "plt.subplot(121)\n",
        "plt.hist(X_temp.view(-1).tolist(), 50, density = True, color=\"green\");\n",
        "plt.subplot(121)\n",
        "plt.hist(y.view(-1).tolist(), 50, density = True,color=\"yellow\");"
      ],
      "metadata": {
        "id": "XTcHHJg65VIj",
        "outputId": "f5f8fcde-7d91-479e-e324-3b90f6715d2e",
        "colab": {
          "base_uri": "https://localhost:8080/",
          "height": 482
        }
      },
      "execution_count": 7,
      "outputs": [
        {
          "output_type": "stream",
          "name": "stdout",
          "text": [
            "tensor(-0.0016) X_temp mean tensor(1.0047)\n",
            "tensor(0.0034) y mean tensor(0.6365)\n"
          ]
        },
        {
          "output_type": "display_data",
          "data": {
            "text/plain": [
              "<Figure size 2000x500 with 1 Axes>"
            ],
            "image/png": "[encoded data removed]"
          },
          "metadata": {}
        }
      ]
    },
    {
      "cell_type": "markdown",
      "source": [
        "You can see the gausian of y is expanding, meaning standard deviation is increasing which we dont want since we want the distribution to be as much gaussian as possible."
      ],
      "metadata": {
        "id": "WdXVlORS6v8-"
      }
    },
    {
      "cell_type": "code",
      "source": [
        "max_steps = 200000\n",
        "batch_size = 32\n",
        "lossi = []\n",
        "for i in range(max_steps):\n",
        "  #mini batch construction\n",
        "  ix = torch.randint(0, Xtr.shape[0], (batch_size,), generator=g)\n",
        "  Xb, Yb = Xtr[ix], Ytr[ix]\n",
        "\n",
        "  # forward pass\n",
        "  emb = C[Xb]\n",
        "  embCat = emb.view(emb.shape[0],-1) #concat the vectors\n",
        "  hpreact = embCat @ W1 #+b1 # no need to use b1 since we are substracting bnmeani which will diminish the b1 gradient, removind this.\n",
        "  bnmeani = hpreact.mean(0,keepdim=True)\n",
        "  bnstdi = hpreact.std(0,keepdim=True)\n",
        "  hpreact = bngains*((hpreact - bnmeani)/bnstdi) + bnbias\n",
        "  with torch.no_grad():\n",
        "    bnmean_running = 0.999 * bnmean_running + 0.001 * bnmeani\n",
        "    bnstd_running = 0.999 * bnstd_running + 0.001 * bnstdi\n",
        "\n",
        "  h = torch.tanh(hpreact)\n",
        "  logits = h @ W2 + b2\n",
        "  loss = F.cross_entropy(logits, Yb)\n",
        "\n",
        "  # backward pass\n",
        "  for p in parameters:\n",
        "    p.grad = None\n",
        "  loss.backward()\n",
        "\n",
        "  # update\n",
        "  lr = 0.1 if i < 100000 else 0.01\n",
        "  for p in parameters:\n",
        "    p.data += -lr * p.grad\n",
        "\n",
        "  # track stats\n",
        "  if i%10000 == 0:\n",
        "    print(f'{i:7d}/{max_steps:7d}: {loss.item():4f}')\n",
        "  lossi.append(loss.log10().item())"
      ],
      "metadata": {
        "id": "4y5oJJJTfSpf",
        "outputId": "0c83ed1c-1883-4e1c-fd46-407469f9418e",
        "colab": {
          "base_uri": "https://localhost:8080/"
        }
      },
      "execution_count": 23,
      "outputs": [
        {
          "output_type": "stream",
          "name": "stdout",
          "text": [
            "      0/ 200000: 3.314689\n",
            "  10000/ 200000: 2.198443\n",
            "  20000/ 200000: 2.337455\n",
            "  30000/ 200000: 2.435885\n",
            "  40000/ 200000: 2.011928\n",
            "  50000/ 200000: 2.259472\n",
            "  60000/ 200000: 2.477500\n",
            "  70000/ 200000: 2.101999\n",
            "  80000/ 200000: 2.278812\n",
            "  90000/ 200000: 2.186207\n",
            " 100000/ 200000: 1.947383\n",
            " 110000/ 200000: 2.301028\n",
            " 120000/ 200000: 1.983655\n",
            " 130000/ 200000: 2.452322\n",
            " 140000/ 200000: 2.383932\n",
            " 150000/ 200000: 2.198680\n",
            " 160000/ 200000: 1.973299\n",
            " 170000/ 200000: 1.866808\n",
            " 180000/ 200000: 1.997269\n",
            " 190000/ 200000: 1.834683\n"
          ]
        }
      ]
    },
    {
      "cell_type": "code",
      "source": [
        "plt.hist(h.view(-1).tolist(), 50);"
      ],
      "metadata": {
        "id": "3tLnoqZIm6z8",
        "outputId": "40a8fa65-c3e7-48e0-a590-dde3ff00391c",
        "colab": {
          "base_uri": "https://localhost:8080/",
          "height": 430
        }
      },
      "execution_count": 9,
      "outputs": [
        {
          "output_type": "display_data",
          "data": {
            "text/plain": [
              "<Figure size 640x480 with 1 Axes>"
            ],
            "image/png": "[encoded data removed]"
          },
          "metadata": {}
        }
      ]
    },
    {
      "cell_type": "code",
      "source": [
        "print(b1.grad)"
      ],
      "metadata": {
        "id": "U0S7eae7iG1T",
        "outputId": "872e920d-91fc-46cd-fbee-74bcfabc607b",
        "colab": {
          "base_uri": "https://localhost:8080/"
        }
      },
      "execution_count": 25,
      "outputs": [
        {
          "output_type": "stream",
          "name": "stdout",
          "text": [
            "tensor([-9.3132e-10,  0.0000e+00, -1.1642e-10, -2.3283e-10, -4.6566e-10,\n",
            "         1.8626e-09, -2.3283e-10,  0.0000e+00,  9.3132e-10,  9.3132e-10,\n",
            "        -2.3283e-10, -1.8626e-09, -1.8626e-09,  9.3132e-10,  2.7940e-09,\n",
            "         9.3132e-10,  2.3283e-10,  9.3132e-10, -2.3283e-10, -2.3283e-09,\n",
            "        -6.9849e-10,  0.0000e+00,  2.3283e-10,  9.3132e-10, -1.6298e-09,\n",
            "        -1.3970e-09, -1.1642e-10,  3.7253e-09,  1.0477e-09,  1.1642e-10,\n",
            "         2.7940e-09,  2.3283e-09,  0.0000e+00, -8.7311e-10,  0.0000e+00,\n",
            "         0.0000e+00,  0.0000e+00, -1.8626e-09,  9.3132e-10, -1.3970e-09,\n",
            "         0.0000e+00, -2.0955e-09,  1.8626e-09, -3.4925e-10,  9.3132e-10,\n",
            "         1.7462e-09,  9.3132e-10, -1.3970e-09,  0.0000e+00, -6.9849e-10,\n",
            "        -1.8626e-09, -9.3132e-10, -3.4925e-10,  2.3283e-09, -4.6566e-10,\n",
            "         0.0000e+00,  1.1642e-09,  3.9581e-09,  1.3970e-09,  9.3132e-10,\n",
            "         9.3132e-10, -9.3132e-10, -1.1642e-10,  3.7253e-09,  4.6566e-10,\n",
            "        -9.3132e-10, -1.3970e-09,  4.6566e-10, -4.6566e-10,  6.9849e-10,\n",
            "        -1.3970e-09,  4.6566e-09, -3.7253e-09,  0.0000e+00, -2.3283e-10,\n",
            "        -2.7940e-09,  0.0000e+00, -9.3132e-10,  9.3132e-10,  1.8626e-09,\n",
            "         1.8626e-09,  4.6566e-10,  0.0000e+00, -2.5611e-09, -6.9849e-10,\n",
            "         0.0000e+00,  1.1642e-10,  9.3132e-10,  2.3283e-10, -9.3132e-10,\n",
            "        -4.6566e-10,  4.8894e-09,  2.2119e-09, -1.3970e-09,  0.0000e+00,\n",
            "         3.4925e-10,  2.7940e-09,  9.3132e-10,  0.0000e+00,  2.7940e-09,\n",
            "         6.9849e-10,  9.8953e-10, -1.3970e-09,  4.6566e-10,  5.8208e-10,\n",
            "        -2.7940e-09, -4.6566e-10, -9.3132e-10, -9.3132e-10,  1.8626e-09,\n",
            "         2.7940e-09, -2.3283e-10, -4.1910e-09,  2.3283e-09, -9.3132e-10,\n",
            "        -6.9849e-10, -1.8626e-09, -9.3132e-10,  2.3283e-10, -1.8626e-09,\n",
            "         0.0000e+00,  0.0000e+00, -9.3132e-10,  1.1642e-09,  9.3132e-10,\n",
            "        -6.4028e-10,  6.9849e-10, -9.3132e-10,  0.0000e+00,  4.6566e-10,\n",
            "         9.3132e-10, -8.1491e-10, -1.3970e-09,  9.3132e-10,  9.3132e-10,\n",
            "         9.3132e-10,  9.3132e-10, -2.3283e-09, -2.7940e-09,  8.7311e-10,\n",
            "         0.0000e+00,  1.8626e-09,  0.0000e+00,  1.1642e-10,  4.6566e-10,\n",
            "        -1.8626e-09,  7.8580e-10,  8.1491e-10,  1.6298e-09,  6.5193e-09,\n",
            "         2.3283e-10, -1.8626e-09, -2.7940e-09,  9.3132e-10, -3.7253e-09,\n",
            "        -4.6566e-10, -9.3132e-10,  6.9849e-10, -1.8626e-09,  9.3132e-10,\n",
            "         2.3283e-10, -9.3132e-10,  0.0000e+00, -1.1642e-10, -6.4028e-10,\n",
            "         4.6566e-10, -1.1642e-10, -1.8626e-09, -1.8626e-09,  0.0000e+00,\n",
            "         9.3132e-10, -4.6566e-10,  0.0000e+00, -4.6566e-10, -9.3132e-10,\n",
            "         1.3970e-09,  0.0000e+00,  2.3283e-09, -1.7462e-10,  5.5297e-10,\n",
            "         1.6298e-09, -1.6298e-09,  1.3970e-09,  9.3132e-10,  1.3970e-09,\n",
            "        -1.8626e-09, -5.5879e-09, -3.7253e-09,  2.0373e-10, -9.3132e-10,\n",
            "         2.3283e-10, -4.6566e-10,  1.1642e-10, -4.6566e-10, -9.3132e-10,\n",
            "         8.1491e-10, -1.1642e-10, -4.6566e-10,  0.0000e+00,  0.0000e+00])\n"
          ]
        }
      ]
    },
    {
      "cell_type": "code",
      "source": [
        "plt.hist(hpreact.view(-1).tolist(), 50);"
      ],
      "metadata": {
        "id": "ABUrCS3lqPMS",
        "outputId": "b6dd64f2-489a-49e3-c53d-03fc9fd3cd03",
        "colab": {
          "base_uri": "https://localhost:8080/",
          "height": 430
        }
      },
      "execution_count": 10,
      "outputs": [
        {
          "output_type": "display_data",
          "data": {
            "text/plain": [
              "<Figure size 640x480 with 1 Axes>"
            ],
            "image/png": "[encoded data removed]"
          },
          "metadata": {}
        }
      ]
    },
    {
      "cell_type": "code",
      "source": [
        "plt.plot(lossi)"
      ],
      "metadata": {
        "id": "u1SHwCDYgMPO",
        "outputId": "7c3ed72c-1326-4593-92f4-19eb1a034fe3",
        "colab": {
          "base_uri": "https://localhost:8080/",
          "height": 448
        }
      },
      "execution_count": 11,
      "outputs": [
        {
          "output_type": "execute_result",
          "data": {
            "text/plain": [
              "[<matplotlib.lines.Line2D at 0x7be4710bc390>]"
            ]
          },
          "metadata": {},
          "execution_count": 11
        },
        {
          "output_type": "display_data",
          "data": {
            "text/plain": [
              "<Figure size 640x480 with 1 Axes>"
            ],
            "image/png": "[encoded data removed]"
          },
          "metadata": {}
        }
      ]
    },
    {
      "cell_type": "code",
      "source": [
        "@torch.no_grad() # this decorator disables gradient tracking.\n",
        "def split_less(split):\n",
        "  X,Y = {\n",
        "      'train': (Xtr, Ytr),\n",
        "      'dev': (Xdev,Ydev),\n",
        "      'test': (Xte, Yte),\n",
        "  }[split]\n",
        "  emb = C[X]\n",
        "  embcat = emb.view(emb.shape[0],-1)\n",
        "  hpreact = embcat @ W1 + b1\n",
        "  hpreact = bngains*((hpreact - bnmean_running)/bnstd_running) + bnbias\n",
        "  h = torch.tanh(hpreact)\n",
        "  logits = h @ W2 + b2\n",
        "  loss = F.cross_entropy(logits, Y)\n",
        "  print(f'{split} Loss: ', loss.item())\n",
        "print(split_less(\"train\"))\n",
        "print(split_less(\"dev\"))"
      ],
      "metadata": {
        "colab": {
          "base_uri": "https://localhost:8080/"
        },
        "id": "VwdC4xAlhzjn",
        "outputId": "0939bd6f-ac75-4c46-f35e-2bfa22f3299f"
      },
      "execution_count": 24,
      "outputs": [
        {
          "output_type": "stream",
          "name": "stdout",
          "text": [
            "train Loss:  2.06659197807312\n",
            "None\n",
            "dev Loss:  2.1050572395324707\n",
            "None\n"
          ]
        }
      ]
    },
    {
      "cell_type": "code",
      "source": [
        "## initialization..\n",
        "# uniform distribution (prob of any character roughly equal to 1/27)\n",
        "#we want logits to be near zero when model is initialized.\n",
        "#can we initialize W == 0??\n",
        "  #\n"
      ],
      "metadata": {
        "id": "BRnZ9YGdjKx2"
      },
      "execution_count": 13,
      "outputs": []
    },
    {
      "cell_type": "code",
      "source": [
        "#4-d example\n",
        "logits = torch.tensor([0,0,0,0]).float()\n",
        "probs = torch.softmax(logits,dim = 0)\n",
        "loss = -probs[2].log()\n",
        "probs,loss"
      ],
      "metadata": {
        "id": "mb4xwh-ZlG_j",
        "outputId": "43efee72-7b3f-4836-e990-bf1ac19498e5",
        "colab": {
          "base_uri": "https://localhost:8080/"
        }
      },
      "execution_count": 14,
      "outputs": [
        {
          "output_type": "execute_result",
          "data": {
            "text/plain": [
              "(tensor([0.2500, 0.2500, 0.2500, 0.2500]), tensor(1.3863))"
            ]
          },
          "metadata": {},
          "execution_count": 14
        }
      ]
    },
    {
      "cell_type": "code",
      "source": [],
      "metadata": {
        "id": "0dHthgWjlTxc"
      },
      "execution_count": 14,
      "outputs": []
    }
  ],
  "metadata": {
    "colab": {
      "name": "Welcome To Colab",
      "toc_visible": true,
      "provenance": [],
      "include_colab_link": true
    },
    "kernelspec": {
      "display_name": "Python 3",
      "name": "python3"
    }
  },
  "nbformat": 4,
  "nbformat_minor": 0
}