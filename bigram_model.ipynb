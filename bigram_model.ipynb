{
  "cells": [
    {
      "cell_type": "markdown",
      "metadata": {
        "id": "view-in-github",
        "colab_type": "text"
      },
      "source": [
        "<a href=\"https://colab.research.google.com/github/mlccgkpol/makeMore/blob/main/bigram_model.ipynb\" target=\"_parent\"><img src=\"https://colab.research.google.com/assets/colab-badge.svg\" alt=\"Open In Colab\"/></a>"
      ]
    },
    {
      "cell_type": "code",
      "source": [
        "import matplotlib.pyplot as plt\n",
        "%matplotlib inline"
      ],
      "metadata": {
        "id": "4OccgyEDBaBf"
      },
      "execution_count": 181,
      "outputs": []
    },
    {
      "cell_type": "code",
      "source": [
        "words = open(\"names.txt\",'r').read().splitlines()"
      ],
      "metadata": {
        "id": "Ldi-v-Jy0ykW"
      },
      "execution_count": 5,
      "outputs": []
    },
    {
      "cell_type": "code",
      "source": [
        "words[:10]"
      ],
      "metadata": {
        "colab": {
          "base_uri": "https://localhost:8080/"
        },
        "id": "vtryTewb1Esm",
        "outputId": "5663ee06-8270-4317-a6ff-de8a31b0373c"
      },
      "execution_count": 7,
      "outputs": [
        {
          "output_type": "execute_result",
          "data": {
            "text/plain": [
              "['emma',\n",
              " 'olivia',\n",
              " 'ava',\n",
              " 'isabella',\n",
              " 'sophia',\n",
              " 'charlotte',\n",
              " 'mia',\n",
              " 'amelia',\n",
              " 'harper',\n",
              " 'evelyn']"
            ]
          },
          "metadata": {},
          "execution_count": 7
        }
      ]
    },
    {
      "cell_type": "code",
      "source": [
        "len(words)"
      ],
      "metadata": {
        "colab": {
          "base_uri": "https://localhost:8080/"
        },
        "id": "MmA5Mi3J1Okb",
        "outputId": "e2866d4e-3f70-4cc0-98c1-d75affdef543"
      },
      "execution_count": 8,
      "outputs": [
        {
          "output_type": "execute_result",
          "data": {
            "text/plain": [
              "32033"
            ]
          },
          "metadata": {},
          "execution_count": 8
        }
      ]
    },
    {
      "cell_type": "code",
      "source": [
        "print(list(zip(words[0],words[0][1:])))"
      ],
      "metadata": {
        "colab": {
          "base_uri": "https://localhost:8080/"
        },
        "id": "bVBWDPML1eeG",
        "outputId": "307f7de5-1fe7-4bc7-d198-6e3d2002a92d"
      },
      "execution_count": 19,
      "outputs": [
        {
          "output_type": "stream",
          "name": "stdout",
          "text": [
            "[('e', 'm'), ('m', 'm'), ('m', 'a')]\n"
          ]
        }
      ]
    },
    {
      "cell_type": "code",
      "source": [
        "b = {}\n",
        "for w in words:\n",
        "  chs = ['<S>'] + list(w) + ['<E>']\n",
        "  # print(chs,\"chs\")\n",
        "  for ch1, ch2 in zip(chs, chs[1:]):\n",
        "    bigram = (ch1, ch2)\n",
        "    b[bigram] = b.get(bigram, 0) + 1\n",
        "    # print(ch1,ch2)"
      ],
      "metadata": {
        "id": "V71nt2Wg1kp7"
      },
      "execution_count": 28,
      "outputs": []
    },
    {
      "cell_type": "code",
      "source": [
        "sorted(b.items(), key = lambda kv: kv[1], reverse = True)"
      ],
      "metadata": {
        "id": "UNEBA1fV4Hmx"
      },
      "execution_count": null,
      "outputs": []
    },
    {
      "cell_type": "code",
      "source": [
        "import torch"
      ],
      "metadata": {
        "id": "B6WL4FX97iXn"
      },
      "execution_count": 40,
      "outputs": []
    },
    {
      "cell_type": "code",
      "source": [
        "N = torch.zeros((27,27), dtype = torch.int32)"
      ],
      "metadata": {
        "id": "3CTDBpQL9WfX"
      },
      "execution_count": 119,
      "outputs": []
    },
    {
      "cell_type": "code",
      "source": [
        "chars = sorted(list(set(''.join(words))))\n",
        "stoi = {s:i+1 for i,s in enumerate(chars)}\n",
        "stoi['.'] = 0\n",
        "itos = {i:s for s,i in stoi.items()}"
      ],
      "metadata": {
        "id": "FzvfmAOt-FKY"
      },
      "execution_count": 120,
      "outputs": []
    },
    {
      "cell_type": "code",
      "source": [
        "for w in words:\n",
        "  chs = ['.'] + list(w) + ['.']\n",
        "  # print(chs,\"chs\")\n",
        "  for ch1, ch2 in zip(chs, chs[1:]):\n",
        "    N[stoi[ch1],stoi[ch2]]+=1\n",
        "    # print(ch1,ch2)"
      ],
      "metadata": {
        "id": "070txnQD9Y68"
      },
      "execution_count": 121,
      "outputs": []
    },
    {
      "cell_type": "code",
      "source": [
        "def buildDiagram(N):\n",
        "  plt.figure(figsize=(16,16))\n",
        "  plt.imshow(N, cmap = 'Blues')\n",
        "  for i in range(27):\n",
        "    for j in range(27):\n",
        "      chstr = itos[i] + itos[j]\n",
        "      plt.text(j,i,chstr, ha = \"center\", va = \"bottom\", color = 'gray')\n",
        "      plt.text(j,i,N[i,j].item(), ha = \"center\", va = \"top\", color = 'gray')\n",
        "  plt.axis(\"off\");"
      ],
      "metadata": {
        "id": "8B8C_J8A9iRc"
      },
      "execution_count": 183,
      "outputs": []
    },
    {
      "cell_type": "code",
      "source": [
        "N[0,:]"
      ],
      "metadata": {
        "colab": {
          "base_uri": "https://localhost:8080/"
        },
        "id": "ny2g24avCisF",
        "outputId": "29cb4699-fb50-40af-d7cf-a960bbe5af12"
      },
      "execution_count": 96,
      "outputs": [
        {
          "output_type": "execute_result",
          "data": {
            "text/plain": [
              "tensor([   0, 4410, 1306, 1542, 1690, 1531,  417,  669,  874,  591, 2422, 2963,\n",
              "        1572, 2538, 1146,  394,  515,   92, 1639, 2055, 1308,   78,  376,  307,\n",
              "         134,  535,  929], dtype=torch.int32)"
            ]
          },
          "metadata": {},
          "execution_count": 96
        }
      ]
    },
    {
      "cell_type": "code",
      "source": [
        "p = N[0].float()\n",
        "p = p/p.sum()\n",
        "p"
      ],
      "metadata": {
        "colab": {
          "base_uri": "https://localhost:8080/"
        },
        "id": "hyVqq11_sNHA",
        "outputId": "4006d8e7-05d8-417e-9721-83d8df9273d4"
      },
      "execution_count": 123,
      "outputs": [
        {
          "output_type": "execute_result",
          "data": {
            "text/plain": [
              "tensor([0.0000, 0.1377, 0.0408, 0.0481, 0.0528, 0.0478, 0.0130, 0.0209, 0.0273,\n",
              "        0.0184, 0.0756, 0.0925, 0.0491, 0.0792, 0.0358, 0.0123, 0.0161, 0.0029,\n",
              "        0.0512, 0.0642, 0.0408, 0.0024, 0.0117, 0.0096, 0.0042, 0.0167, 0.0290])"
            ]
          },
          "metadata": {},
          "execution_count": 123
        }
      ]
    },
    {
      "cell_type": "markdown",
      "source": [
        "----------------------------------------"
      ],
      "metadata": {
        "id": "3QEPYKTryZgd"
      }
    },
    {
      "cell_type": "code",
      "source": [
        "chars = ['.'] + [chr(i) for i in range(ord('a'), ord('z') + 1)]"
      ],
      "metadata": {
        "id": "uOzPWYM7sYif"
      },
      "execution_count": 98,
      "outputs": []
    },
    {
      "cell_type": "code",
      "source": [
        "plt.figure(figsize=(12, 4))\n",
        "plt.bar(chars, p, color='skyblue')\n",
        "plt.xlabel('Characters')\n",
        "plt.ylabel('Probability')\n",
        "plt.title('First haracter Probability Distribution')\n",
        "plt.grid(axis='y', linestyle='--', alpha=0.7)\n",
        "plt.show()"
      ],
      "metadata": {
        "colab": {
          "base_uri": "https://localhost:8080/",
          "height": 262
        },
        "id": "oGMLRuKKsZFP",
        "outputId": "d3c24040-8c60-4d54-fa31-6360d84a1e87"
      },
      "execution_count": 99,
      "outputs": [
        {
          "output_type": "display_data",
          "data": {
            "text/plain": [
              "<Figure size 1200x400 with 1 Axes>"
            ],
            "image/png": "[encoded data removed]"
          },
          "metadata": {}
        }
      ]
    },
    {
      "cell_type": "code",
      "source": [
        "q_temp = torch.Generator().manual_seed(2147483647)\n",
        "p_temp = torch.rand(3, generator=q_temp)\n",
        "p_temp = p_temp/p_temp.sum()\n",
        "p_temp"
      ],
      "metadata": {
        "colab": {
          "base_uri": "https://localhost:8080/"
        },
        "id": "gXv4GNgKs-yb",
        "outputId": "b04f0f09-10ab-4e85-c8ab-52cf47f95cc0"
      },
      "execution_count": 106,
      "outputs": [
        {
          "output_type": "execute_result",
          "data": {
            "text/plain": [
              "tensor([0.6064, 0.3033, 0.0903])"
            ]
          },
          "metadata": {},
          "execution_count": 106
        }
      ]
    },
    {
      "cell_type": "code",
      "source": [],
      "metadata": {
        "id": "Wfs17y-evGni"
      },
      "execution_count": 102,
      "outputs": []
    },
    {
      "cell_type": "markdown",
      "source": [
        "what does the above function does is it creates the frequency of indices (0,1,2) in such a way that it satisfies the above probability(p).\n",
        "You can see that if 0's is 'a' times, then 1's are about a/2 and 1 are about a/6 times. (0.6,0.3,0.1)."
      ],
      "metadata": {
        "id": "cqkMjK_3vOYx"
      }
    },
    {
      "cell_type": "code",
      "source": [
        "torch.multinomial(p_temp,num_samples=20,replacement=True, generator=q_temp)"
      ],
      "metadata": {
        "colab": {
          "base_uri": "https://localhost:8080/"
        },
        "id": "Swind46RuHtS",
        "outputId": "7785519a-62b9-4f82-f0fa-b951188946f0"
      },
      "execution_count": 107,
      "outputs": [
        {
          "output_type": "execute_result",
          "data": {
            "text/plain": [
              "tensor([1, 1, 2, 0, 0, 2, 1, 1, 0, 0, 0, 1, 1, 0, 0, 1, 1, 0, 0, 1])"
            ]
          },
          "metadata": {},
          "execution_count": 107
        }
      ]
    },
    {
      "cell_type": "code",
      "source": [
        "q = torch.Generator().manual_seed(2147483647)\n",
        "ix = torch.multinomial(p,num_samples=1,replacement=True,generator=q).item()\n",
        "print(itos[ix])"
      ],
      "metadata": {
        "colab": {
          "base_uri": "https://localhost:8080/"
        },
        "id": "QSjXzdbtuvRh",
        "outputId": "190a9aef-d67a-4c41-aa10-957cc0fc0f7f"
      },
      "execution_count": 115,
      "outputs": [
        {
          "output_type": "stream",
          "name": "stdout",
          "text": [
            "j\n"
          ]
        }
      ]
    },
    {
      "cell_type": "code",
      "source": [
        "P = (N + 100).float() #model smoothing and N+100 adds 100 to each element.\n",
        "print(P.shape)\n",
        "# P.sum(1,keepdim=True)\n",
        "P /= P.sum(1, keepdim=True)\n",
        "# 0 here means on 0th dimension, it will become 1 and it will sum across the column.\n",
        "# is it possible to divide [27,27] an [27,1]?? good point.\n",
        "\n",
        "# Broadcasting rules in pytorch ->\n",
        "\n",
        "# Each tensor has at least one dimension.\n",
        "# When iterating over the dimension sizes, starting at the trailing dimension, the dimension sizes must either be equal, one of them is 1, or one of them does not exist.\n"
      ],
      "metadata": {
        "colab": {
          "base_uri": "https://localhost:8080/"
        },
        "id": "2wgFVS0MzyUl",
        "outputId": "5b0849e7-b023-4b9c-fbbf-266c314ead8e"
      },
      "execution_count": 145,
      "outputs": [
        {
          "output_type": "stream",
          "name": "stdout",
          "text": [
            "torch.Size([27, 27])\n"
          ]
        }
      ]
    },
    {
      "cell_type": "code",
      "source": [
        "P[0].sum()"
      ],
      "metadata": {
        "colab": {
          "base_uri": "https://localhost:8080/"
        },
        "id": "4TCsJcjp3CBJ",
        "outputId": "46555a3a-89dc-4320-fd17-33516c3a45c2"
      },
      "execution_count": 144,
      "outputs": [
        {
          "output_type": "execute_result",
          "data": {
            "text/plain": [
              "tensor(1.)"
            ]
          },
          "metadata": {},
          "execution_count": 144
        }
      ]
    },
    {
      "cell_type": "code",
      "source": [
        "def generateStrings(P):\n",
        "  q = torch.Generator().manual_seed(2147483647)\n",
        "  ix = 0\n",
        "  for i in range(5):\n",
        "    out = []\n",
        "    while True:\n",
        "      p = P[ix]\n",
        "      ix = torch.multinomial(p,num_samples=1,replacement=True,generator=q).item()\n",
        "      if ix == 0:\n",
        "        break;\n",
        "      out.append(itos[ix])\n",
        "    print(''.join(out))\n"
      ],
      "metadata": {
        "id": "qJdANstiwiXN"
      },
      "execution_count": 157,
      "outputs": []
    },
    {
      "cell_type": "code",
      "source": [
        "# Homework - Broadcasting Semantics. Very Important."
      ],
      "metadata": {
        "id": "riXNvfvKyGJq"
      },
      "execution_count": null,
      "outputs": []
    },
    {
      "cell_type": "code",
      "source": [
        "P_temp = (N).float()\n",
        "P_temp = P_temp/P_temp.sum(1)\n",
        "generateStrings(P_temp)"
      ],
      "metadata": {
        "id": "IQYAUS0m3oWn",
        "outputId": "7f4b9d16-f5dc-48fd-d29d-7972e9e241ce",
        "colab": {
          "base_uri": "https://localhost:8080/"
        }
      },
      "execution_count": 168,
      "outputs": [
        {
          "output_type": "stream",
          "name": "stdout",
          "text": [
            "juwidedigwaquzopruffyobinn\n",
            "fovinttophows\n",
            "gwevisliniauwabileviackhbduinrwiqulysstyicaylaftezufftumestfodoumjuppptsuwahouzzi\n",
            "core\n",
            "ysezockhawavedinerimouffwynin\n"
          ]
        }
      ]
    },
    {
      "cell_type": "code",
      "source": [
        "# 27,27\n",
        "# 27\n",
        "\n",
        "#27,27\n",
        "# 1,27 it will shift the 27 right.\n",
        "\n",
        "# so we will have problem instead of normalizing rows, we are normalizing column.\n",
        "\n",
        "# Thats why (keepdim = true) to get desired result when required."
      ],
      "metadata": {
        "id": "ysZMNUT-4Kd5"
      },
      "execution_count": 155,
      "outputs": []
    },
    {
      "cell_type": "code",
      "source": [
        "for w in [\"rohit\"]:\n",
        "  chs = ['.'] + list(w) + ['.']\n",
        "  logProb = 0;\n",
        "  for ch1, ch2 in zip(chs, chs[1:]):\n",
        "    ix1 = stoi[ch1]\n",
        "    ix2 = stoi[ch2]\n",
        "    prob = P[ix1,ix2]\n",
        "    logProb += -torch.log(prob)\n",
        "logProb/=3\n",
        "print(f'{ch1}{ch2} -> {prob:.4f} -> {logProb: .4f}')"
      ],
      "metadata": {
        "id": "ryBBo8Pi40LL",
        "outputId": "73f536af-e4fd-4a86-8ad6-70b42999c7c0",
        "colab": {
          "base_uri": "https://localhost:8080/"
        }
      },
      "execution_count": 178,
      "outputs": [
        {
          "output_type": "stream",
          "name": "stdout",
          "text": [
            "t. -> 0.0867 ->  5.9238\n"
          ]
        }
      ]
    },
    {
      "cell_type": "code",
      "source": [
        "# minimize negative log likelihood."
      ],
      "metadata": {
        "id": "5mDc9eRc6HWy"
      },
      "execution_count": null,
      "outputs": []
    },
    {
      "cell_type": "code",
      "source": [],
      "metadata": {
        "id": "zTOrZy-pCcCq"
      },
      "execution_count": null,
      "outputs": []
    }
  ],
  "metadata": {
    "colab": {
      "name": "Welcome To Colab",
      "provenance": [],
      "include_colab_link": true
    },
    "kernelspec": {
      "display_name": "Python 3",
      "name": "python3"
    }
  },
  "nbformat": 4,
  "nbformat_minor": 0
}