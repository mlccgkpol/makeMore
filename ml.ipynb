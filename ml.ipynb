{
  "cells": [
    {
      "cell_type": "markdown",
      "metadata": {
        "id": "view-in-github",
        "colab_type": "text"
      },
      "source": [
        "<a href=\"https://colab.research.google.com/github/mlccgkpol/makeMore/blob/main/ml.ipynb\" target=\"_parent\"><img src=\"https://colab.research.google.com/assets/colab-badge.svg\" alt=\"Open In Colab\"/></a>"
      ]
    },
    {
      "cell_type": "code",
      "source": [
        "import matplotlib.pyplot as plt\n",
        "import torch.nn.functional as F\n",
        "import torch\n",
        "%matplotlib inline"
      ],
      "metadata": {
        "id": "4OccgyEDBaBf"
      },
      "execution_count": 51,
      "outputs": []
    },
    {
      "cell_type": "code",
      "source": [
        "words = open(\"names.txt\",'r').read().splitlines()"
      ],
      "metadata": {
        "id": "Ldi-v-Jy0ykW"
      },
      "execution_count": 52,
      "outputs": []
    },
    {
      "cell_type": "code",
      "source": [
        "chars = sorted(list(set(''.join(words))))\n",
        "stoi = {s:i+1 for i,s in enumerate(chars)}\n",
        "stoi['.'] = 0\n",
        "itos = {i:s for s,i in stoi.items()}"
      ],
      "metadata": {
        "id": "FzvfmAOt-FKY"
      },
      "execution_count": 53,
      "outputs": []
    },
    {
      "cell_type": "code",
      "source": [],
      "metadata": {
        "id": "070txnQD9Y68"
      },
      "execution_count": 54,
      "outputs": []
    },
    {
      "cell_type": "code",
      "source": [],
      "metadata": {
        "id": "8B8C_J8A9iRc"
      },
      "execution_count": 55,
      "outputs": []
    },
    {
      "cell_type": "code",
      "source": [],
      "metadata": {
        "id": "2wgFVS0MzyUl",
        "colab": {
          "base_uri": "https://localhost:8080/"
        },
        "outputId": "7fd5bffd-dd3f-49e7-bbe7-1c360c12f202"
      },
      "execution_count": 56,
      "outputs": [
        {
          "output_type": "stream",
          "name": "stdout",
          "text": [
            "torch.Size([27, 27])\n"
          ]
        }
      ]
    },
    {
      "cell_type": "code",
      "source": [
        "\n",
        "z"
      ],
      "metadata": {
        "id": "qJdANstiwiXN"
      },
      "execution_count": 57,
      "outputs": []
    },
    {
      "cell_type": "code",
      "source": [
        "# 27,27\n",
        "# 27\n",
        "\n",
        "#27,27\n",
        "# 1,27 it will shift the 27 right.\n",
        "\n",
        "# so we will have problem instead of normalizing rows, we are normalizing column.\n",
        "\n",
        "# Thats why (keepdim = true) to get desired result when required."
      ],
      "metadata": {
        "id": "ysZMNUT-4Kd5"
      },
      "execution_count": 58,
      "outputs": []
    },
    {
      "cell_type": "code",
      "source": [
        "for w in [\"rohit\"]:\n",
        "  chs = ['.'] + list(w) + ['.']\n",
        "  logProb = 0;\n",
        "  for ch1, ch2 in zip(chs, chs[1:]):\n",
        "    ix1 = stoi[ch1]\n",
        "    ix2 = stoi[ch2]\n",
        "    prob = P[ix1,ix2]\n",
        "    logProb += -torch.log(prob)\n",
        "logProb/=3\n",
        "print(f'{ch1}{ch2} -> {prob:.4f} -> {logProb: .4f}')"
      ],
      "metadata": {
        "id": "ryBBo8Pi40LL",
        "colab": {
          "base_uri": "https://localhost:8080/"
        },
        "outputId": "ddf7902f-ce33-47cf-b3cc-6ed738af0b7f"
      },
      "execution_count": 59,
      "outputs": [
        {
          "output_type": "stream",
          "name": "stdout",
          "text": [
            "t. -> 0.0705 ->  6.0212\n"
          ]
        }
      ]
    },
    {
      "cell_type": "code",
      "source": [
        "# minimize negative log likelihood."
      ],
      "metadata": {
        "id": "5mDc9eRc6HWy"
      },
      "execution_count": 60,
      "outputs": []
    },
    {
      "cell_type": "code",
      "source": [
        "# create the training set of bigrams (x,y)\n",
        "xs,ys = [],[]\n",
        "\n",
        "for w in words[:1]:\n",
        "  chs = ['.'] + list(w) + ['.']\n",
        "  # print(chs,\"chs\")\n",
        "  for ch1, ch2 in zip(chs, chs[1:]):\n",
        "    ix1 = stoi[ch1]\n",
        "    ix2 = stoi[ch2]\n",
        "    xs.append(ix1)\n",
        "    ys.append(ix2)\n",
        "xs = torch.tensor(xs)\n",
        "ys = torch.tensor(ys)"
      ],
      "metadata": {
        "id": "zTOrZy-pCcCq"
      },
      "execution_count": 106,
      "outputs": []
    },
    {
      "cell_type": "markdown",
      "source": [
        "there are two ways to create tensor\n",
        "torch.tensor &\n",
        "torch.Tensor"
      ],
      "metadata": {
        "id": "N7oaPdRo8iha"
      }
    },
    {
      "cell_type": "code",
      "source": [
        "x_enc = F.one_hot(xs,num_classes=27).float()"
      ],
      "metadata": {
        "id": "60wf25BXEn5w"
      },
      "execution_count": 107,
      "outputs": []
    },
    {
      "cell_type": "code",
      "source": [
        "plt.imshow(x_enc)"
      ],
      "metadata": {
        "colab": {
          "base_uri": "https://localhost:8080/",
          "height": 169
        },
        "id": "i-sn9iKP59xX",
        "outputId": "832d2be9-9095-49b4-88d3-6085540dea59"
      },
      "execution_count": 108,
      "outputs": [
        {
          "output_type": "execute_result",
          "data": {
            "text/plain": [
              "<matplotlib.image.AxesImage at 0x79338e0d22d0>"
            ]
          },
          "metadata": {},
          "execution_count": 108
        },
        {
          "output_type": "display_data",
          "data": {
            "text/plain": [
              "<Figure size 640x480 with 1 Axes>"
            ],
            "image/png": "[encoded data removed]"
          },
          "metadata": {}
        }
      ]
    },
    {
      "cell_type": "code",
      "source": [
        "g = torch.Generator().manual_seed(2147483647)\n",
        "W = torch.rand((27,27), generator = g, requires_grad=True)"
      ],
      "metadata": {
        "id": "0e0W66_y6ApA"
      },
      "execution_count": 109,
      "outputs": []
    },
    {
      "cell_type": "code",
      "source": [
        "# forward pass\n",
        "logits = x_enc @ W\n",
        "counts = logits.exp() # softmax\n",
        "prob = counts/counts.sum(1,keepdims=True) # softmax\n",
        "loss = -prob[torch.arange(5),ys].log().mean()"
      ],
      "metadata": {
        "id": "CkTl8X-O7Dbk"
      },
      "execution_count": 110,
      "outputs": []
    },
    {
      "cell_type": "markdown",
      "source": [
        "\\begin{equation}\n",
        "\\text{Softmax}(z_i) = \\frac{e^{z_i}}{\\sum_{j=1}^{K} e^{z_j}}\n",
        "\\end{equation}"
      ],
      "metadata": {
        "id": "EojFcaJz_J8o"
      }
    },
    {
      "cell_type": "code",
      "source": [
        "# temp1 = x_enc[3]\n",
        "# temp2 = W[:,13]\n",
        "# (temp1*temp2).sum()\n",
        "# logits[3,13]"
      ],
      "metadata": {
        "id": "tpc9dpzs_BMn"
      },
      "execution_count": null,
      "outputs": []
    },
    {
      "cell_type": "code",
      "source": [
        "idx_max = torch.argmax(prob[4]).item() # to get the maximum likelihood(not MLE) of the next character.\n",
        "itos[idx_max]"
      ],
      "metadata": {
        "id": "z2eskEQZEQnh",
        "colab": {
          "base_uri": "https://localhost:8080/",
          "height": 35
        },
        "outputId": "896c972a-b936-4412-9bb4-f527fa2a1e15"
      },
      "execution_count": 98,
      "outputs": [
        {
          "output_type": "execute_result",
          "data": {
            "text/plain": [
              "'n'"
            ],
            "application/vnd.google.colaboratory.intrinsic+json": {
              "type": "string"
            }
          },
          "metadata": {},
          "execution_count": 98
        }
      ]
    },
    {
      "cell_type": "code",
      "source": [
        "prob[0,5], prob[1,13], prob[2,13],prob[4,0]"
      ],
      "metadata": {
        "colab": {
          "base_uri": "https://localhost:8080/"
        },
        "id": "H3wEGiGG-dzT",
        "outputId": "d9f6a3a1-e47e-4c98-b171-9512fc87243f"
      },
      "execution_count": 101,
      "outputs": [
        {
          "output_type": "execute_result",
          "data": {
            "text/plain": [
              "(tensor(0.0229), tensor(0.0258), tensor(0.0339), tensor(0.0402))"
            ]
          },
          "metadata": {},
          "execution_count": 101
        }
      ]
    },
    {
      "cell_type": "code",
      "source": [
        "#backward pass\n",
        "W.grad = None # setting this to None is better than 0 as this is more efficient.\n",
        "loss.backward()"
      ],
      "metadata": {
        "id": "xkkxCGi3DzUD"
      },
      "execution_count": 111,
      "outputs": []
    },
    {
      "cell_type": "code",
      "source": [],
      "metadata": {
        "id": "ZfeE5KJ4D_p0"
      },
      "execution_count": null,
      "outputs": []
    }
  ],
  "metadata": {
    "colab": {
      "name": "Welcome To Colab",
      "provenance": [],
      "include_colab_link": true
    },
    "kernelspec": {
      "display_name": "Python 3",
      "name": "python3"
    }
  },
  "nbformat": 4,
  "nbformat_minor": 0
}